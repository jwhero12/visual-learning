{
  "nbformat": 4,
  "nbformat_minor": 0,
  "metadata": {
    "colab": {
      "provenance": []
    },
    "kernelspec": {
      "name": "python3",
      "display_name": "Python 3"
    },
    "language_info": {
      "name": "python"
    }
  },
  "cells": [
    {
      "cell_type": "markdown",
      "source": [
        "## import"
      ],
      "metadata": {
        "id": "QD3RNA7vFedq"
      }
    },
    {
      "cell_type": "code",
      "source": [
        "import os\n",
        "import cv2\n",
        "import numpy as np\n",
        "from skimage.metrics import structural_similarity as ssim\n",
        "import re\n",
        "import pandas as pd"
      ],
      "metadata": {
        "id": "m_N0igqUFaI8"
      },
      "execution_count": null,
      "outputs": []
    },
    {
      "cell_type": "markdown",
      "source": [
        "##Preprocess(1)"
      ],
      "metadata": {
        "id": "eZIZUj9QFkqK"
      }
    },
    {
      "cell_type": "code",
      "source": [
        "def preprocess_images(input_dir, output_dir):\n",
        "    os.makedirs(output_dir, exist_ok=True)\n",
        "    for filename in os.listdir(input_dir):\n",
        "        input_path = os.path.join(input_dir, filename)\n",
        "\n",
        "        if not filename.lower().endswith(('.png', '.jpg', '.jpeg', '.bmp', '.tiff')):\n",
        "            print(f\"Skipping non-image file: {filename}\")\n",
        "            continue\n",
        "\n",
        "        print(f\"Processing {filename}...\")\n",
        "        image = cv2.imread(input_path)\n",
        "\n",
        "        if image is None:\n",
        "            print(f\"Failed to load image: {input_path}. Skipping...\")\n",
        "            continue\n",
        "\n",
        "        green_channel = image[:, :, 1]\n",
        "        dark_threshold = 30\n",
        "        brightened_img = np.where(\n",
        "            (green_channel > 0) & (green_channel < dark_threshold),\n",
        "            green_channel + (dark_threshold - green_channel),\n",
        "            green_channel\n",
        "        )\n",
        "        brightened_img = np.clip(brightened_img, 0, 255).astype(np.uint8)\n",
        "\n",
        "        clahe = cv2.createCLAHE(clipLimit=2.0, tileGridSize=(8, 8))\n",
        "        enhanced_img = clahe.apply(brightened_img)\n",
        "\n",
        "        blurred_img = cv2.GaussianBlur(enhanced_img, (5, 5), sigmaX=1.0)\n",
        "\n",
        "        kernel = np.array([[0, -1, 0], [-1, 5, -1], [0, -1, 0]])\n",
        "        sharpened_img = cv2.filter2D(blurred_img, -1, kernel)\n",
        "\n",
        "        output_path = os.path.join(output_dir, filename)\n",
        "        cv2.imwrite(output_path, sharpened_img)\n",
        "        print(f\"Saved preprocessed image to {output_path}\")\n",
        "\n",
        "def main():\n",
        "    input_dir = input(\"Enter the input directory path: \").strip()\n",
        "    output_dir = input(\"Enter the output directory path: \").strip()\n",
        "\n",
        "    if not os.path.exists(input_dir):\n",
        "        print(\"The input directory does not exist.\")\n",
        "        return\n",
        "\n",
        "    preprocess_images(input_dir, output_dir)\n",
        "\n",
        "if __name__ == \"__main__\":\n",
        "    main()"
      ],
      "metadata": {
        "id": "H9eNdGnDst6X"
      },
      "execution_count": null,
      "outputs": []
    },
    {
      "cell_type": "markdown",
      "source": [
        "##Preprocess(2)"
      ],
      "metadata": {
        "id": "YB0ypOXnwj47"
      }
    },
    {
      "cell_type": "code",
      "execution_count": null,
      "metadata": {
        "collapsed": true,
        "id": "mRnOmv1iRwTz"
      },
      "outputs": [],
      "source": [
        "def preprocess_images(input_dir, output_dir):\n",
        "    os.makedirs(output_dir, exist_ok=True)\n",
        "\n",
        "    for filename in os.listdir(input_dir):\n",
        "        input_path = os.path.join(input_dir, filename)\n",
        "\n",
        "        if not filename.lower().endswith(('.png', '.jpg', '.jpeg', '.bmp', '.tiff')):\n",
        "            print(f\"Skipping non-image file: {filename}\")\n",
        "            continue\n",
        "\n",
        "        print(f\"Processing {filename}...\")\n",
        "        image = cv2.imread(input_path)\n",
        "\n",
        "        if image is None:\n",
        "            print(f\"Failed to load image: {input_path}. Skipping...\")\n",
        "            continue\n",
        "\n",
        "        green_channel = image[:, :, 1]\n",
        "\n",
        "        clahe = cv2.createCLAHE(clipLimit=2.0, tileGridSize=(8, 8))\n",
        "        enhanced_img = clahe.apply(green_channel)\n",
        "\n",
        "        blurred_img = cv2.GaussianBlur(enhanced_img, (5, 5), sigmaX=1.0)\n",
        "\n",
        "        kernel = np.array([[0, -1, 0], [-1, 5, -1], [0, -1, 0]])\n",
        "        sharpened_img = cv2.filter2D(blurred_img, -1, kernel)\n",
        "\n",
        "        output_path = os.path.join(output_dir, filename)\n",
        "        cv2.imwrite(output_path, sharpened_img)\n",
        "        print(f\"Saved preprocessed image to {output_path}\")\n",
        "\n",
        "input_dir = \"/content/retina_image\"\n",
        "output_dir = \"preprocess2/\"\n",
        "preprocess_images(input_dir, output_dir)"
      ]
    },
    {
      "cell_type": "markdown",
      "source": [
        "##Preprocess(3)"
      ],
      "metadata": {
        "id": "340JzIfXwpXF"
      }
    },
    {
      "cell_type": "code",
      "source": [
        "def preprocess_images(input_dir, output_dir):\n",
        "    os.makedirs(output_dir, exist_ok=True)\n",
        "\n",
        "    for filename in os.listdir(input_dir):\n",
        "        input_path = os.path.join(input_dir, filename)\n",
        "\n",
        "        if not filename.lower().endswith(('.png', '.jpg', '.jpeg', '.bmp', '.tiff')):\n",
        "            print(f\"Skipping non-image file: {filename}\")\n",
        "            continue\n",
        "\n",
        "        print(f\"Processing {filename}...\")\n",
        "        image = cv2.imread(input_path)\n",
        "\n",
        "        if image is None:\n",
        "            print(f\"Failed to load image: {input_path}. Skipping...\")\n",
        "            continue\n",
        "\n",
        "        green_channel = image[:, :, 1]\n",
        "\n",
        "        clahe = cv2.createCLAHE(clipLimit=2.0, tileGridSize=(8, 8))\n",
        "        enhanced_img = clahe.apply(green_channel)\n",
        "\n",
        "        blurred_img = cv2.GaussianBlur(enhanced_img, (5, 5), sigmaX=1.0)\n",
        "\n",
        "        kernel = np.array([[0, -1, 0], [-1, 5, -1], [0, -1, 0]])\n",
        "        sharpened_img = cv2.filter2D(blurred_img, -1, kernel)\n",
        "\n",
        "        brightness_boost = 50\n",
        "        adjusted_img = sharpened_img.copy()\n",
        "        mask = (sharpened_img > 0)\n",
        "        adjusted_img[mask] = np.clip(sharpened_img[mask] + brightness_boost, 0, 255)\n",
        "\n",
        "        output_path = os.path.join(output_dir, filename)\n",
        "        cv2.imwrite(output_path, adjusted_img)\n",
        "        print(f\"Saved preprocessed image to {output_path}\")\n",
        "\n",
        "input_dir = \"/content/retina_image/\"  # 입력 이미지 디렉토리\n",
        "output_dir = \"preprocess3/\"  # 출력 디렉토리\n",
        "preprocess_images(input_dir, output_dir)\n"
      ],
      "metadata": {
        "id": "s7BNIp3uXofA"
      },
      "execution_count": null,
      "outputs": []
    },
    {
      "cell_type": "markdown",
      "source": [
        "##Run TEED"
      ],
      "metadata": {
        "id": "doFKPbmsyVZg"
      }
    },
    {
      "cell_type": "code",
      "source": [
        "!python TEED/main.py"
      ],
      "metadata": {
        "id": "iH-NLvnQUQ7P"
      },
      "execution_count": null,
      "outputs": []
    },
    {
      "cell_type": "markdown",
      "source": [
        "##Postprocess(1) - Median"
      ],
      "metadata": {
        "id": "SGjIqHbLyZjH"
      }
    },
    {
      "cell_type": "code",
      "source": [
        "def apply_median_and_crop_with_background(input_dir, output_dir, radius_scale=2.2):\n",
        "    os.makedirs(output_dir, exist_ok=True)  # 출력 디렉토리 생성\n",
        "\n",
        "    for filename in os.listdir(input_dir):\n",
        "        input_path = os.path.join(input_dir, filename)\n",
        "        output_path = os.path.join(output_dir, filename)\n",
        "\n",
        "        if not filename.lower().endswith(('.png', '.jpg', '.jpeg', '.bmp', '.tiff')):\n",
        "            print(f\"Skipping non-image file: {filename}\")\n",
        "            continue\n",
        "\n",
        "        print(f\"Processing {filename}...\")\n",
        "\n",
        "        image = cv2.imread(input_path)\n",
        "        if image is None:\n",
        "            print(f\"Failed to load image: {input_path}. Skipping...\")\n",
        "            continue\n",
        "\n",
        "        median_filtered = cv2.medianBlur(image, 5)\n",
        "\n",
        "        border_pixels = np.concatenate([\n",
        "            image[0, :, :],\n",
        "            image[-1, :, :],\n",
        "            image[:, 0, :],\n",
        "            image[:, -1, :]\n",
        "        ])\n",
        "        background_color = border_pixels.mean(axis=0).astype(np.uint8)\n",
        "\n",
        "        height, width = image.shape[:2]\n",
        "        center = (width // 2, height // 2)\n",
        "        radius = int(min(width, height) / radius_scale)\n",
        "\n",
        "        mask = np.zeros((height, width), dtype=np.uint8)\n",
        "        cv2.circle(mask, center, radius, 255, -1)\n",
        "\n",
        "        circular_cropped = cv2.bitwise_and(median_filtered, median_filtered, mask=mask)\n",
        "\n",
        "        result = np.zeros_like(image)\n",
        "        for i in range(3):\n",
        "            result[:, :, i] = np.where(mask == 255, circular_cropped[:, :, i], background_color[i])\n",
        "\n",
        "        cv2.imwrite(output_path, result)\n",
        "        print(f\"Saved processed and cropped image to {output_path}\")\n",
        "\n",
        "input_dir = \"/content/zip/result/TEED/preprocess3\"\n",
        "output_dir = \"/content/zip/result/median/preprocess3\"\n",
        "apply_median_and_crop_with_background(input_dir, output_dir)"
      ],
      "metadata": {
        "id": "fbNENCTsjMA2"
      },
      "execution_count": null,
      "outputs": []
    },
    {
      "cell_type": "markdown",
      "source": [
        "##Postprocess(2) - Median, Bilateral"
      ],
      "metadata": {
        "id": "ZhGfJ3Lwyqgu"
      }
    },
    {
      "cell_type": "code",
      "source": [
        "def apply_filters_and_crop(input_dir, output_dir, background_color=(255, 255, 255), radius_scale=2.2):\n",
        "    os.makedirs(output_dir, exist_ok=True)\n",
        "\n",
        "    for filename in os.listdir(input_dir):\n",
        "        input_path = os.path.join(input_dir, filename)\n",
        "        output_path = os.path.join(output_dir, filename)\n",
        "\n",
        "        if not filename.lower().endswith(('.png', '.jpg', '.jpeg', '.bmp', '.tiff')):\n",
        "            print(f\"Skipping non-image file: {filename}\")\n",
        "            continue\n",
        "\n",
        "        print(f\"Processing {filename}...\")\n",
        "\n",
        "        image = cv2.imread(input_path)\n",
        "        if image is None:\n",
        "            print(f\"Failed to load image: {input_path}. Skipping...\")\n",
        "            continue\n",
        "\n",
        "        grayscale_image = cv2.cvtColor(image, cv2.COLOR_BGR2GRAY)\n",
        "        median_filtered = cv2.medianBlur(grayscale_image, 5)\n",
        "        bilateral_filtered = cv2.bilateralFilter(median_filtered, d=9, sigmaColor=75, sigmaSpace=75)\n",
        "\n",
        "        image[:, :, 0] = bilateral_filtered\n",
        "        image[:, :, 1] = bilateral_filtered\n",
        "        image[:, :, 2] = bilateral_filtered\n",
        "\n",
        "        height, width = image.shape[:2]\n",
        "        result = np.full_like(image, background_color)\n",
        "        center = (width // 2, height // 2)\n",
        "        radius = min(width, height) / radius_scale\n",
        "\n",
        "        mask = np.zeros((height, width), dtype=np.uint8)\n",
        "        cv2.circle(mask, center, int(radius), 255, -1)\n",
        "\n",
        "        circular_cropped = cv2.bitwise_and(image, image, mask=mask)\n",
        "        for i in range(3):  # Assuming the image has 3 color channels\n",
        "            result[:, :, i] = np.where(mask == 255, circular_cropped[:, :, i], result[:, :, i])\n",
        "\n",
        "        # 결과 저장\n",
        "        cv2.imwrite(output_path, result)\n",
        "        print(f\"Saved processed and cropped image to {output_path}\")\n",
        "\n",
        "# Example usage\n",
        "input_dir = \"/content/result/TEED/preprocess3\"  # 입력 이미지 디렉토리\n",
        "output_dir = \"/content/result/final/postprocess3\"  # 출력 디렉토리\n",
        "apply_filters_and_crop(input_dir, output_dir)"
      ],
      "metadata": {
        "id": "OrkBq1pnXaji"
      },
      "execution_count": null,
      "outputs": []
    },
    {
      "cell_type": "markdown",
      "source": [
        "##Postprocess(2-1) - Add sharpening"
      ],
      "metadata": {
        "id": "YeszgVcXy9F5"
      }
    },
    {
      "cell_type": "code",
      "source": [
        "def sharpen_images(input_folder, output_folder):\n",
        "    os.makedirs(output_folder, exist_ok=True)\n",
        "\n",
        "    sharpening_kernel = np.array([[-1, -1, -1],\n",
        "                                   [-1, 9, -1],\n",
        "                                   [-1, -1, -1]])\n",
        "\n",
        "    for filename in os.listdir(input_folder):\n",
        "        input_path = os.path.join(input_folder, filename)\n",
        "\n",
        "        if not filename.lower().endswith(('.png', '.jpg', '.jpeg', '.bmp', '.tiff')):\n",
        "            print(f\"Skipping non-image file: {filename}\")\n",
        "            continue\n",
        "\n",
        "        print(f\"Processing {filename}...\")\n",
        "\n",
        "        image = cv2.imread(input_path)\n",
        "        if image is None:\n",
        "            print(f\"Failed to load image: {input_path}\")\n",
        "            continue\n",
        "\n",
        "        sharpened = cv2.filter2D(image, -1, sharpening_kernel)\n",
        "\n",
        "        output_path = os.path.join(output_folder, filename)\n",
        "        cv2.imwrite(output_path, sharpened)\n",
        "        print(f\"Saved sharpened image to {output_path}\")\n",
        "\n",
        "input_folder = \"/content/result/final/postprocess3\"\n",
        "output_folder = \"/content/result/final_sharpening/postprocess3\"\n",
        "sharpen_images(input_folder, output_folder)"
      ],
      "metadata": {
        "id": "E2JbtFPUcPeQ"
      },
      "execution_count": null,
      "outputs": []
    },
    {
      "cell_type": "markdown",
      "source": [
        "##Evaluation"
      ],
      "metadata": {
        "id": "6ZIlVXGuzNnm"
      }
    },
    {
      "cell_type": "code",
      "source": [
        "def compare_images(image1_path, image2_path):\n",
        "    image1 = cv2.imread(image1_path, cv2.IMREAD_GRAYSCALE)\n",
        "    image2 = cv2.imread(image2_path, cv2.IMREAD_GRAYSCALE)\n",
        "\n",
        "    if image1 is None or image2 is None:\n",
        "        raise ValueError(f\"One or both images could not be loaded: {image1_path}, {image2_path}\")\n",
        "    if image1.shape != image2.shape:\n",
        "        image2 = cv2.resize(image2, (image1.shape[1], image1.shape[0]))\n",
        "\n",
        "    # SSIM\n",
        "    ssim_score, _ = ssim(image1, image2, full=True)\n",
        "\n",
        "    # MSE\n",
        "    mse_score = np.mean((image1 - image2) ** 2)\n",
        "\n",
        "    # NCC\n",
        "    ncc_score = np.corrcoef(image1.flatten(), image2.flatten())[0, 1]\n",
        "\n",
        "    # Pixel Overlap\n",
        "    overlap_score = np.sum(image1 == image2) / image1.size\n",
        "\n",
        "    return ssim_score, mse_score, ncc_score, overlap_score\n",
        "\n",
        "def extract_prefix(filename):\n",
        "    \"\"\"\n",
        "    Extract the prefix (e.g., Image_01L) from a filename.\n",
        "    \"\"\"\n",
        "    match = re.match(r\"(Image_\\d+[LR])\", filename)\n",
        "    return match.group(1) if match else None\n",
        "\n",
        "def compare_folders_by_prefix(folder1, folder2, output_csv_path=\"comparison_results.csv\"):\n",
        "    if not os.path.exists(folder1) or not os.path.exists(folder2):\n",
        "        raise ValueError(\"One or both folders do not exist.\")\n",
        "\n",
        "    folder1_files = sorted([f for f in os.listdir(folder1) if f.endswith(('.png', '.jpg', '.jpeg'))])\n",
        "    folder2_files = sorted([f for f in os.listdir(folder2) if f.endswith(('.png', '.jpg', '.jpeg'))])\n",
        "\n",
        "    folder1_map = {extract_prefix(f): f for f in folder1_files if extract_prefix(f)}\n",
        "    folder2_map = {extract_prefix(f): f for f in folder2_files if extract_prefix(f)}\n",
        "\n",
        "    results = []\n",
        "\n",
        "    for prefix, file1 in folder1_map.items():\n",
        "        if prefix not in folder2_map:\n",
        "            print(f\"No match found for {prefix} in folder2.\")\n",
        "            continue\n",
        "\n",
        "        path1 = os.path.join(folder1, file1)\n",
        "        path2 = os.path.join(folder2, folder2_map[prefix])\n",
        "\n",
        "        try:\n",
        "            ssim_score, mse_score, ncc_score, overlap_score = compare_images(path1, path2)\n",
        "            results.append({\n",
        "                \"Prefix\": prefix,\n",
        "                \"Folder1 File\": file1,\n",
        "                \"Folder2 File\": folder2_map[prefix],\n",
        "                \"SSIM\": ssim_score,\n",
        "                \"MSE\": mse_score,\n",
        "                \"NCC\": ncc_score,\n",
        "                \"Pixel Overlap\": overlap_score\n",
        "            })\n",
        "\n",
        "        except ValueError as e:\n",
        "            print(f\"Error comparing {file1} with {folder2_map[prefix]}: {e}\")\n",
        "\n",
        "    results_df = pd.DataFrame(results)\n",
        "    if not results_df.empty:\n",
        "        print(\"\\n=== Comparison Results ===\")\n",
        "        print(results_df)\n",
        "\n",
        "        avg_ssim = results_df[\"SSIM\"].mean()\n",
        "        avg_mse = results_df[\"MSE\"].mean()\n",
        "        avg_ncc = results_df[\"NCC\"].mean()\n",
        "        avg_overlap = results_df[\"Pixel Overlap\"].mean()\n",
        "\n",
        "        overall_averages = {\n",
        "            \"Prefix\": \"Overall Average\",\n",
        "            \"Folder1 File\": \"-\",\n",
        "            \"Folder2 File\": \"-\",\n",
        "            \"SSIM\": avg_ssim,\n",
        "            \"MSE\": avg_mse,\n",
        "            \"NCC\": avg_ncc,\n",
        "            \"Pixel Overlap\": avg_overlap\n",
        "        }\n",
        "        results_df = pd.concat([results_df, pd.DataFrame([overall_averages])], ignore_index=True)\n",
        "\n",
        "        # Save results to a CSV file\n",
        "        results_df.to_csv(output_csv_path, index=False)\n",
        "        print(f\"\\nResults saved to {output_csv_path}\")\n",
        "\n",
        "        print(\"\\n=== Overall Averages ===\")\n",
        "        print(f\"Average SSIM: {avg_ssim:.4f}\")\n",
        "        print(f\"Average MSE: {avg_mse:.4f}\")\n",
        "        print(f\"Average NCC: {avg_ncc:.4f}\")\n",
        "        print(f\"Average Pixel Overlap: {avg_overlap:.4f}\")\n",
        "    else:\n",
        "        print(\"No valid comparisons found. No CSV file was created.\")\n",
        "\n",
        "folder1 = \"/content/zip/result/median/preprocess3\"\n",
        "folder2 = \"/content/zip/result/masking\"\n",
        "output_csv_path = \"/content/median3_results.csv\"\n",
        "compare_folders_by_prefix(folder1, folder2, output_csv_path)\n"
      ],
      "metadata": {
        "id": "44w4estEZ3q-"
      },
      "execution_count": null,
      "outputs": []
    }
  ]
}